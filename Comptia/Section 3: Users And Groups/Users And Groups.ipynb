{
 "cells": [
  {
   "cell_type": "markdown",
   "id": "70940ce6",
   "metadata": {},
   "source": [
    "### 2.0 Security\n",
    "\n",
    "#### 2.2 Given a scenario, implement identity management\n",
    "- Account creation and deletion\n",
    "    - Utilities\n",
    "        - useradd\n",
    "        - groupadd\n",
    "        - userdel\n",
    "        - groupdel\n",
    "        - usermod\n",
    "        - groupmod\n",
    "        - id\n",
    "        - who\n",
    "        - w\n",
    "    - Deafult shell\n",
    "    - Configuration files\n",
    "        - /etc/passwd\n",
    "        - /etc/group\n",
    "        - /etc/shadow\n",
    "        - /etc/profile\n",
    "        - /etc/skel\n",
    "        - .bash_profile\n",
    "        - .bashrc\n",
    "- Account management\n",
    "    - passwd\n",
    "    - chage\n",
    "    - pam_tally2\n",
    "    - faillock\n",
    "    - /etc/login.defs"
   ]
  },
  {
   "cell_type": "markdown",
   "id": "e27cafd7",
   "metadata": {},
   "source": [
    "### 16. Superuser (OBJ. 2.2)"
   ]
  },
  {
   "cell_type": "markdown",
   "id": "43ed5c2c",
   "metadata": {},
   "source": [
    "```\n",
    "Types of users:\n",
    "    - Root\n",
    "    - Standard \n",
    "    - Service [specific to a service/daemon, e.g mySQL, http]\n",
    "    \n",
    "    \n",
    "By giving least previlege, only access needed, the system will remian secure!!\n",
    "```"
   ]
  },
  {
   "cell_type": "markdown",
   "id": "da9bfe33",
   "metadata": {},
   "source": [
    "```bash\n",
    "su --root\n",
    "# superuser/ switch user\n",
    "```"
   ]
  },
  {
   "cell_type": "code",
   "execution_count": 4,
   "id": "b81778dd",
   "metadata": {},
   "outputs": [
    {
     "name": "stdout",
     "output_type": "stream",
     "text": [
      "-r--r-----. 1 root root 4375 Jan 22  2022 /etc/sudoers\n",
      "\u001b[?2004h\u001b[?2004l\u001b[?2004l"
     ]
    },
    {
     "ename": "",
     "evalue": "1",
     "output_type": "error",
     "traceback": []
    }
   ],
   "source": [
    "ll /etc/sudoers\n",
    "\n",
    "#List the users"
   ]
  },
  {
   "cell_type": "code",
   "execution_count": 1,
   "id": "0eabfb5e",
   "metadata": {},
   "outputs": [
    {
     "name": "stdout",
     "output_type": "stream",
     "text": [
      " 03:15:18 up  1:47,  7 users,  load average: 0.51, 0.88, 1.03\n",
      "USER     TTY        LOGIN@   IDLE   JCPU   PCPU WHAT\n",
      "RHHLab   tty2      01:28    1:46m  0.12s  0.12s /usr/bin/startplasma-wayland\n",
      "RHHLab   pts/0     01:28    1:46m  0.00s  1.49s /usr/bin/kded5\n",
      "RHHLab   pts/1     01:28    1:40m  1.66s  1.53s /usr/bin/zsh\n",
      "RHHLab   pts/2     01:35    1:34m  2.84s  2.34s /home/RHHLab/anaconda3/bin/pyth\n",
      "RHHLab   pts/3     01:35   53.00s  1.95s  1.78s /usr/bin/zsh\n",
      "RHHLab   pts/4     01:35    1:40m  0.65s  0.53s /usr/bin/zsh\n",
      "RHHLab   pts/5     01:35    1:40m  0.63s  0.52s /usr/bin/zsh\n",
      "\u001b[?2004h"
     ]
    },
    {
     "ename": "",
     "evalue": "1",
     "output_type": "error",
     "traceback": []
    }
   ],
   "source": [
    "w"
   ]
  },
  {
   "cell_type": "code",
   "execution_count": 2,
   "id": "9099c72c",
   "metadata": {},
   "outputs": [
    {
     "name": "stdout",
     "output_type": "stream",
     "text": [
      "W(1)                             User Commands                            W(1)\n",
      "\n",
      "\u001b[1mNAME\u001b[0m\n",
      "       w - Show who is logged on and what they are doing.\n",
      "\n",
      "\u001b[1mSYNOPSIS\u001b[0m\n",
      "       \u001b[1mw \u001b[22m[\u001b[4moptions\u001b[24m] \u001b[4muser\u001b[24m [...]\n",
      "\n",
      "\u001b[1mDESCRIPTION\u001b[0m\n",
      "       \u001b[1mw  \u001b[22mdisplays  information  about the users currently on the machine, and\n",
      "       their processes.  The header shows, in this order,  the  current  time,\n",
      "       how  long  the  system  has  been running, how many users are currently\n",
      "       logged on, and the system load averages for the past 1, 5, and 15  min‐\n",
      "       utes.\n",
      "\n",
      "       The  following entries are displayed for each user: login name, the tty\n",
      "       name, the remote host, login time, idle time, JCPU, PCPU, and the  com‐\n",
      "       mand line of their current process.\n",
      "\n",
      "       The  JCPU  time  is the time used by all processes attached to the tty.\n",
      "       It does not include past background jobs, but  does  include  currently\n",
      "       running background jobs.\n",
      "\n",
      "       The  PCPU  time  is  the time used by the current process, named in the\n",
      "       \"what\" field.\n",
      "\n",
      "\u001b[1mCOMMAND-LINE OPTIONS\u001b[0m\n",
      "       \u001b[1m-h\u001b[22m, \u001b[1m--no-header\u001b[0m\n",
      "              Don't print the header.\n",
      "\n",
      "       \u001b[1m-u\u001b[22m, \u001b[1m--no-current\u001b[0m\n",
      "              Ignores the username while figuring out the current process  and\n",
      "              cpu times.  To demonstrate this, do a \u001b[1msu \u001b[22mand do a \u001b[1mw \u001b[22mand a \u001b[1mw -u\u001b[22m.\n",
      "\n",
      "       \u001b[1m-s\u001b[22m, \u001b[1m--short\u001b[0m\n",
      "              Use  the short format.  Don't print the login time, JCPU or PCPU\n",
      "              times.\n",
      "\n",
      "       \u001b[1m-f\u001b[22m, \u001b[1m--from\u001b[0m\n",
      "              Toggle printing the \u001b[1mfrom \u001b[22m(remote hostname) field.   The  default\n",
      "              as  released  is  for the \u001b[1mfrom \u001b[22mfield to not be printed, although\n",
      "              your system administrator or distribution  maintainer  may  have\n",
      "              compiled a version in which the \u001b[1mfrom \u001b[22mfield is shown by default.\n",
      "\n",
      "       \u001b[1m--help \u001b[22mDisplay help text and exit.\n",
      "\n",
      "       \u001b[1m-i\u001b[22m, \u001b[1m--ip-addr\u001b[0m\n",
      "              Display IP address instead of hostname for \u001b[1mfrom \u001b[22mfield.\n",
      "\n",
      "       \u001b[1m-V\u001b[22m, \u001b[1m--version\u001b[0m\n",
      "              Display version information.\n",
      "\n",
      "       \u001b[1m-o\u001b[22m, \u001b[1m--old-style\u001b[0m\n",
      "              Old  style  output.  Prints blank space for idle times less than\n",
      "              one minute.\n",
      "\n",
      "       \u001b[1muser   \u001b[22mShow information about the specified user only.\n",
      "\n",
      "\u001b[1mENVIRONMENT\u001b[0m\n",
      "       PROCPS_USERLEN\n",
      "              Override the default width of the username column.  Defaults  to\n",
      "              8.\n",
      "\n",
      "       PROCPS_FROMLEN\n",
      "              Override the default width of the from column.  Defaults to 16.\n",
      "\n",
      "\u001b[1mFILES\u001b[0m\n",
      "       \u001b[4m/var/run/utmp\u001b[0m\n",
      "              information about who is currently logged on\n",
      "\n",
      "       \u001b[4m/proc\u001b[24m  process information\n",
      "\n",
      "\u001b[1mSEE ALSO\u001b[0m\n",
      "       \u001b[1mfree\u001b[22m(1), \u001b[1mps\u001b[22m(1), \u001b[1mtop\u001b[22m(1), \u001b[1muptime\u001b[22m(1), \u001b[1mutmp\u001b[22m(5), \u001b[1mwho\u001b[22m(1)\n",
      "\n",
      "\u001b[1mAUTHORS\u001b[0m\n",
      "       \u001b[1mw \u001b[22mwas re-written almost entirely by Charles Blake, based on the version\n",
      "       by Larry Greenfield ⟨greenfie@gauss.rutgers.edu⟩ and Michael K. Johnson\n",
      "       ⟨johnsonm@redhat.com⟩\n",
      "\n",
      "\u001b[1mREPORTING BUGS\u001b[0m\n",
      "       Please send bug reports to ⟨procps@freelists.org⟩\n",
      "\n",
      "procps-ng                         2020-06-04                              W(1)\n",
      "\u001b[?2004h"
     ]
    },
    {
     "ename": "",
     "evalue": "1",
     "output_type": "error",
     "traceback": []
    }
   ],
   "source": [
    "man w"
   ]
  },
  {
   "cell_type": "code",
   "execution_count": 2,
   "id": "f3da89e2",
   "metadata": {},
   "outputs": [
    {
     "name": "stdout",
     "output_type": "stream",
     "text": [
      "-rw-rw-r-- 1 root utmp 3456 Jan 25 15:07 /var/run/utmp\n",
      "\u001b[?2004h"
     ]
    },
    {
     "ename": "",
     "evalue": "1",
     "output_type": "error",
     "traceback": []
    }
   ],
   "source": [
    "ll /var/run/utmp"
   ]
  },
  {
   "cell_type": "code",
   "execution_count": 6,
   "id": "22fc24f9",
   "metadata": {},
   "outputs": [
    {
     "name": "stdout",
     "output_type": "stream",
     "text": [
      "total 0l\n",
      "-r--r--r--  1 RHHLab RHHLab 0 Jan 25 15:09 arch_status\n",
      "dr-xr-xr-x  2 RHHLab RHHLab 0 Jan 25 15:06 \u001b[0m\u001b[01;34mattr\u001b[0m\n",
      "-rw-r--r--  1 RHHLab RHHLab 0 Jan 25 15:09 autogroup\n",
      "-r--------  1 RHHLab RHHLab 0 Jan 25 15:09 auxv\n",
      "-r--r--r--  1 RHHLab RHHLab 0 Jan 25 15:06 cgroup\n",
      "--w-------  1 RHHLab RHHLab 0 Jan 25 15:09 clear_refs\n",
      "-r--r--r--  1 RHHLab RHHLab 0 Jan 25 15:06 cmdline\n",
      "-rw-r--r--  1 RHHLab RHHLab 0 Jan 25 15:06 comm\n",
      "-rw-r--r--  1 RHHLab RHHLab 0 Jan 25 15:09 coredump_filter\n",
      "-r--r--r--  1 RHHLab RHHLab 0 Jan 25 15:09 cpu_resctrl_groups\n",
      "-r--r--r--  1 RHHLab RHHLab 0 Jan 25 15:09 cpuset\n",
      "lrwxrwxrwx  1 RHHLab RHHLab 0 Jan 25 15:09 \u001b[01;36mcwd\u001b[0m -> \u001b[01;34m/home/RHHLab\u001b[0m\n",
      "-r--------  1 RHHLab RHHLab 0 Jan 25 15:09 environ\n",
      "lrwxrwxrwx  1 RHHLab RHHLab 0 Jan 25 15:06 \u001b[01;36mexe\u001b[0m -> \u001b[01;32m/usr/bin/xsettingsd\u001b[0m\n",
      "dr-x------  2 RHHLab RHHLab 0 Jan 25 15:09 \u001b[01;34mfd\u001b[0m\n",
      "dr-xr-xr-x  2 RHHLab RHHLab 0 Jan 25 15:09 \u001b[01;34mfdinfo\u001b[0m\n",
      "-rw-r--r--  1 RHHLab RHHLab 0 Jan 25 15:09 gid_map\n",
      "-r--------  1 RHHLab RHHLab 0 Jan 25 15:09 io\n",
      "-r--------  1 RHHLab RHHLab 0 Jan 25 15:09 ksm_merging_pages\n",
      "-r--------  1 RHHLab RHHLab 0 Jan 25 15:09 ksm_stat\n",
      "-r--r--r--  1 RHHLab RHHLab 0 Jan 25 15:09 latency\n",
      "-r--r--r--  1 RHHLab RHHLab 0 Jan 25 15:09 limits\n",
      "-rw-r--r--  1 RHHLab RHHLab 0 Jan 25 15:06 loginuid\n",
      "dr-x------  2 RHHLab RHHLab 0 Jan 25 15:09 \u001b[01;34mmap_files\u001b[0m\n",
      "-r--r--r--  1 RHHLab RHHLab 0 Jan 25 15:09 maps\n",
      "-rw-------  1 RHHLab RHHLab 0 Jan 25 15:09 mem\n",
      "-r--r--r--  1 RHHLab RHHLab 0 Jan 25 15:09 mountinfo\n",
      "-r--r--r--  1 RHHLab RHHLab 0 Jan 25 15:09 mounts\n",
      "-r--------  1 RHHLab RHHLab 0 Jan 25 15:09 mountstats\n",
      "dr-xr-xr-x 66 RHHLab RHHLab 0 Jan 25 15:09 \u001b[01;34mnet\u001b[0m\n",
      "dr-x--x--x  2 RHHLab RHHLab 0 Jan 25 15:09 \u001b[01;34mns\u001b[0m\n",
      "-r--r--r--  1 RHHLab RHHLab 0 Jan 25 15:09 numa_maps\n",
      "-rw-r--r--  1 RHHLab RHHLab 0 Jan 25 15:09 oom_adj\n",
      "-r--r--r--  1 RHHLab RHHLab 0 Jan 25 15:09 oom_score\n",
      "-rw-r--r--  1 RHHLab RHHLab 0 Jan 25 15:09 oom_score_adj\n",
      "-r--------  1 RHHLab RHHLab 0 Jan 25 15:09 pagemap\n",
      "-r--------  1 RHHLab RHHLab 0 Jan 25 15:09 patch_state\n",
      "-r--------  1 RHHLab RHHLab 0 Jan 25 15:09 personality\n",
      "-rw-r--r--  1 RHHLab RHHLab 0 Jan 25 15:09 projid_map\n",
      "lrwxrwxrwx  1 RHHLab RHHLab 0 Jan 25 15:09 \u001b[01;36mroot\u001b[0m -> \u001b[01;34m/\u001b[0m\n",
      "-rw-r--r--  1 RHHLab RHHLab 0 Jan 25 15:09 sched\n",
      "-r--r--r--  1 RHHLab RHHLab 0 Jan 25 15:09 schedstat\n",
      "-r--r--r--  1 RHHLab RHHLab 0 Jan 25 15:06 sessionid\n",
      "-rw-r--r--  1 RHHLab RHHLab 0 Jan 25 15:09 setgroups\n",
      "-r--r--r--  1 RHHLab RHHLab 0 Jan 25 15:09 smaps\n",
      "-r--r--r--  1 RHHLab RHHLab 0 Jan 25 15:09 smaps_rollup\n",
      "-r--------  1 RHHLab RHHLab 0 Jan 25 15:09 stack\n",
      "-r--r--r--  1 RHHLab RHHLab 0 Jan 25 15:06 stat\n",
      "-r--r--r--  1 RHHLab RHHLab 0 Jan 25 15:09 statm\n",
      "-r--r--r--  1 RHHLab RHHLab 0 Jan 25 15:06 status\n",
      "-r--------  1 RHHLab RHHLab 0 Jan 25 15:09 syscall\n",
      "dr-xr-xr-x  3 RHHLab RHHLab 0 Jan 25 15:09 \u001b[01;34mtask\u001b[0m\n",
      "-rw-r--r--  1 RHHLab RHHLab 0 Jan 25 15:09 timens_offsets\n",
      "-r--r--r--  1 RHHLab RHHLab 0 Jan 25 15:09 timers\n",
      "-rw-rw-rw-  1 RHHLab RHHLab 0 Jan 25 15:09 timerslack_ns\n",
      "-rw-r--r--  1 RHHLab RHHLab 0 Jan 25 15:09 uid_map\n",
      "-r--r--r--  1 RHHLab RHHLab 0 Jan 25 15:09 wchan\n",
      "\u001b[?2004h"
     ]
    },
    {
     "ename": "",
     "evalue": "1",
     "output_type": "error",
     "traceback": []
    }
   ],
   "source": [
    "ll /proc/2140"
   ]
  },
  {
   "cell_type": "code",
   "execution_count": null,
   "id": "eefc08dd",
   "metadata": {},
   "outputs": [],
   "source": []
  }
 ],
 "metadata": {
  "kernelspec": {
   "display_name": "Bash",
   "language": "bash",
   "name": "bash"
  },
  "language_info": {
   "codemirror_mode": "shell",
   "file_extension": ".sh",
   "mimetype": "text/x-sh",
   "name": "bash"
  }
 },
 "nbformat": 4,
 "nbformat_minor": 5
}
