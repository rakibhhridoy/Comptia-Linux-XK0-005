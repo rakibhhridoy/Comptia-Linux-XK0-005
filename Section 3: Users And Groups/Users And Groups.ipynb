{
 "cells": [
  {
   "cell_type": "markdown",
   "id": "70940ce6",
   "metadata": {},
   "source": [
    "### 2.0 Security\n",
    "\n",
    "#### 2.2 Given a scenario, implement identity management\n",
    "- Account creation and deletion\n",
    "    - Utilities\n",
    "        - useradd\n",
    "        - groupadd\n",
    "        - userdel\n",
    "        - groupdel\n",
    "        - usermod\n",
    "        - groupmod\n",
    "        - id\n",
    "        - who\n",
    "        - w\n",
    "    - Deafult shell\n",
    "    - Configuration files\n",
    "        - /etc/passwd\n",
    "        - /etc/group\n",
    "        - /etc/shadow\n",
    "        - /etc/profile\n",
    "        - /etc/skel\n",
    "        - .bash_profile\n",
    "        - .bashrc\n",
    "- Account management\n",
    "    - passwd\n",
    "    - chage\n",
    "    - pam_tally2\n",
    "    - faillock\n",
    "    - /etc/login.defs"
   ]
  },
  {
   "cell_type": "markdown",
   "id": "e27cafd7",
   "metadata": {},
   "source": [
    "### 16. Superuser (OBJ. 2.2)"
   ]
  },
  {
   "cell_type": "markdown",
   "id": "43ed5c2c",
   "metadata": {},
   "source": [
    "```\n",
    "Types of users:\n",
    "    - Root\n",
    "    - Standard \n",
    "    - Service [specific to a service/daemon, e.g mySQL, http]\n",
    "    \n",
    "    \n",
    "By giving least previlege, only access needed, the system will remian secure!!\n",
    "```"
   ]
  },
  {
   "cell_type": "markdown",
   "id": "da9bfe33",
   "metadata": {},
   "source": [
    "```bash\n",
    "su --root\n",
    "# superuser/ switch user\n",
    "```"
   ]
  },
  {
   "cell_type": "code",
   "execution_count": 4,
   "id": "b81778dd",
   "metadata": {},
   "outputs": [
    {
     "name": "stdout",
     "output_type": "stream",
     "text": [
      "-r--r-----. 1 root root 4375 Jan 22  2022 /etc/sudoers\n",
      "\u001b[?2004h\u001b[?2004l\u001b[?2004l"
     ]
    },
    {
     "ename": "",
     "evalue": "1",
     "output_type": "error",
     "traceback": []
    }
   ],
   "source": [
    "ll /etc/sudoers\n",
    "\n",
    "#List the users"
   ]
  },
  {
   "cell_type": "code",
   "execution_count": null,
   "id": "0eabfb5e",
   "metadata": {},
   "outputs": [],
   "source": []
  }
 ],
 "metadata": {
  "kernelspec": {
   "display_name": "Bash",
   "language": "bash",
   "name": "bash"
  },
  "language_info": {
   "codemirror_mode": "shell",
   "file_extension": ".sh",
   "mimetype": "text/x-sh",
   "name": "bash"
  }
 },
 "nbformat": 4,
 "nbformat_minor": 5
}
