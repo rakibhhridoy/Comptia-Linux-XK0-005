{
 "cells": [
  {
   "cell_type": "markdown",
   "id": "e0948442",
   "metadata": {},
   "source": [
    "```\n",
    "- profiles, rc files\n",
    "    - /etc/profile \n",
    "    - ~/.profile\n",
    "    - /etc/bash.bashrc\n",
    "    \n",
    "- maintain skeleton directories \n",
    "- Bash functions\n",
    "- env variables\n",
    "- command search path\n",
    "```"
   ]
  },
  {
   "cell_type": "markdown",
   "id": "a3569b68",
   "metadata": {},
   "source": [
    "```\n",
    "Profiles \n",
    "________\n",
    "\n",
    "/etc/profile  [global]\n",
    "\n",
    "    /etc/profile.d/             \n",
    "    ~/.bash-profile                    |\n",
    "    ~/.bash-login                      |- ~/.bashrc\n",
    "    ~/.profile   [ubuntu default]      |\n",
    "    \n",
    "    /etc/bash.bashrc\n",
    "    /etc/bashrc\n",
    "\n",
    "\n",
    "```"
   ]
  },
  {
   "cell_type": "code",
   "execution_count": 3,
   "id": "88fe2514",
   "metadata": {},
   "outputs": [
    {
     "name": "stdout",
     "output_type": "stream",
     "text": [
      "\u001b[01;34m/etc/profile.d\u001b[0m\n",
      "├── bash_completion.sh\n",
      "├── colorgrep.csh\n",
      "├── colorgrep.sh\n",
      "├── colorls.csh\n",
      "├── colorls.sh\n",
      "├── colorxzgrep.csh\n",
      "├── colorxzgrep.sh\n",
      "├── colorzgrep.csh\n",
      "├── colorzgrep.sh\n",
      "├── csh.local\n",
      "├── debuginfod.csh\n",
      "├── debuginfod.sh\n",
      "├── flatpak.sh\n",
      "├── gawk.csh\n",
      "├── gawk.sh\n",
      "├── gmpopenh264.sh\n",
      "├── kde.csh\n",
      "├── kde.sh\n",
      "├── lang.csh\n",
      "├── lang.sh\n",
      "├── less.csh\n",
      "├── less.sh\n",
      "├── nano-default-editor.csh\n",
      "├── nano-default-editor.sh\n",
      "├── PackageKit.sh\n",
      "├── sh.local\n",
      "├── snapd.sh\n",
      "├── vte.csh\n",
      "├── vte.sh\n",
      "├── which2.csh\n",
      "└── which2.sh\n",
      "\n",
      "1 directory, 31 files\n",
      "\u001b[?2004h"
     ]
    },
    {
     "ename": "",
     "evalue": "1",
     "output_type": "error",
     "traceback": []
    }
   ],
   "source": [
    "tree /etc/profile.d\n"
   ]
  },
  {
   "cell_type": "code",
   "execution_count": 5,
   "id": "a330c4ae",
   "metadata": {},
   "outputs": [
    {
     "name": "stdout",
     "output_type": "stream",
     "text": [
      "total 812[?2004l\n",
      "drwx------. 1 RHHLab RHHLab   1406 Jan 30 23:21  \u001b[0m\u001b[01;34m.\u001b[0m\n",
      "drwxr-xr-x. 1 root   root       12 Aug  9 19:57  \u001b[01;34m..\u001b[0m\n",
      "drwxr-xr-x. 1 RHHLab RHHLab     18 Aug 12 19:02  \u001b[01;34m.anaconda\u001b[0m\n",
      "drwxr-xr-x. 1 RHHLab RHHLab    436 Jan 14 02:28  \u001b[01;34manaconda3\u001b[0m\n",
      "drwxr-xr-x  1 RHHLab RHHLab     12 Oct 15 03:57  \u001b[01;34m.astropy\u001b[0m\n",
      "-rw-------  1 RHHLab RHHLab  10679 Jan 25 17:48  .bash_history\n",
      "-rw-r--r--. 1 RHHLab RHHLab     18 Jan 20  2022  .bash_logout\n",
      "-rw-r--r--. 1 RHHLab RHHLab    162 Sep 22 16:48  .bash_profile\n",
      "-rw-r--r--. 1 RHHLab RHHLab    513 Sep 22 16:48  .bashrc\n",
      "drwxr-xr-x. 1 RHHLab RHHLab    166 Jan 30 15:37  \u001b[01;34mBucket\u001b[0m\n",
      "drwx------. 1 RHHLab RHHLab   2566 Jan 30 23:21  \u001b[01;34m.cache\u001b[0m\n",
      "drwxr-xr-x. 1 RHHLab RHHLab    106 Oct  3 22:42  \u001b[01;34m.cargo\u001b[0m\n",
      "drwxr-xr-x. 1 RHHLab RHHLab     20 Sep  7 02:43  \u001b[01;34m.cert\u001b[0m\n",
      "drwxr-xr-x. 1 RHHLab RHHLab     32 Aug 12 19:03  \u001b[01;34m.conda\u001b[0m\n",
      "-rw-r--r--. 1 RHHLab RHHLab     23 Aug 12 19:02  .condarc\n",
      "drwxr-xr-x. 1 RHHLab RHHLab   3454 Jan 30 23:31  \u001b[01;34m.config\u001b[0m\n",
      "drwxr-xr-x. 1 RHHLab RHHLab     30 Aug 12 19:02  \u001b[01;34m.continuum\u001b[0m\n",
      "drwxr-xr-x. 1 RHHLab RHHLab     20 Oct  9 14:58  \u001b[01;34mDesktop\u001b[0m\n",
      "drwxr-xr-x. 1 RHHLab RHHLab     40 Dec 22 17:52  \u001b[01;34mDocuments\u001b[0m\n",
      "drwxr-xr-x. 1 RHHLab RHHLab    538 Jan 30 23:01  \u001b[01;34mDownloads\u001b[0m\n",
      "drwxr-xr-x  1 RHHLab RHHLab     76 Oct 13 23:46  \u001b[01;34m.fleet\u001b[0m\n",
      "drwxr-xr-x. 1 RHHLab RHHLab     12 Jul 29  2022  \u001b[01;34m.fonts\u001b[0m\n",
      "-rw-r--r--. 1 RHHLab RHHLab    111 Jul 29  2022  .fonts.conf\n",
      "drwxr-xr-x  1 RHHLab RHHLab    426 Oct 13 23:58  \u001b[01;34m.fzf\u001b[0m\n",
      "-rw-r--r--  1 RHHLab RHHLab    244 Oct 21 16:15  .gitconfig\n",
      "drwx------. 1 RHHLab RHHLab      8 Jul 29  2022  \u001b[01;34m.gnome\u001b[0m\n",
      "drwx------. 1 RHHLab RHHLab    124 Jan 25 16:34  \u001b[01;34m.gnupg\u001b[0m\n",
      "drwxr-xr-x. 1 RHHLab RHHLab     12 Aug 12 19:23  \u001b[01;34mgo\u001b[0m\n",
      "drwxr-xr-x  1 RHHLab RHHLab    148 Sep  9 02:40  \u001b[01;34mGoLand-2022.2.3\u001b[0m\n",
      "-rw-r--r--  1 RHHLab RHHLab    253 Jan 30 23:00  .gtkrc-2.0\n",
      "-rw-r--r--  1 RHHLab RHHLab    328 Jan 30 23:00  .gtkrc-2.0-kde4\n",
      "drwxr-xr-x  8 root   root   131072 Jan 30 22:59  \u001b[01;34mhdd\u001b[0m\n",
      "drwxr-xr-x. 1 RHHLab RHHLab     68 Jul 29  2022  \u001b[01;34m.icons\u001b[0m\n",
      "drwxr-xr-x  1 RHHLab RHHLab    148 Sep 13 18:36  \u001b[01;34midea-IU-222.4167.29\u001b[0m\n",
      "drwxr-xr-x  1 RHHLab RHHLab     24 Oct  2 02:19  \u001b[01;34mIdeaProjects\u001b[0m\n",
      "drwxr-xr-x. 1 RHHLab RHHLab     30 Aug 13 13:07  \u001b[01;34m.ipython\u001b[0m\n",
      "drwxr-xr-x  1 RHHLab RHHLab     30 Oct  2 01:57  \u001b[01;34m.java\u001b[0m\n",
      "drwxr-xr-x  1 RHHLab RHHLab     34 Oct 11 15:29  \u001b[01;34mjetbrains-toolbox-1.26.2.13244\u001b[0m\n",
      "drwxr-xr-x. 1 RHHLab RHHLab     32 Jan 12 16:13  \u001b[01;34m.jupyter\u001b[0m\n",
      "drwxr-xr-x. 1 RHHLab RHHLab     10 Aug  9 16:10  \u001b[01;34m.kde\u001b[0m\n",
      "-rw-------  1 RHHLab RHHLab     79 Jan 30 16:18  .lesshst\n",
      "drwx------. 1 RHHLab RHHLab     26 Sep  7 02:47  \u001b[01;34m.local\u001b[0m\n",
      "drwxr-xr-x. 1 RHHLab RHHLab      0 Jul 29  2022  \u001b[01;34mMusic\u001b[0m\n",
      "drwxr-xr-x. 1 RHHLab RHHLab    388 Jan 25 01:28  \u001b[01;34m.oh-my-zsh\u001b[0m\n",
      "-rw-r--r--. 1 RHHLab RHHLab  85531 Jul 29  2022  .p10k.zsh\n",
      "-rw-r--r--  1 RHHLab RHHLab     56 Dec 29 02:42  package.json\n",
      "-rw-r--r--  1 RHHLab RHHLab 151068 Dec 29 02:43  package-lock.json\n",
      "drwxr-xr-x. 1 RHHLab RHHLab    190 Jan 27 14:41  \u001b[01;34mPictures\u001b[0m\n",
      "drwx------. 1 RHHLab RHHLab     10 Jul 29  2022  \u001b[01;34m.pki\u001b[0m\n",
      "drwxr-xr-x. 1 RHHLab RHHLab    390 Jul 29  2022  \u001b[01;34mpowerlevel10k\u001b[0m\n",
      "-rw-r--r--  1 RHHLab RHHLab    119 Oct 13 23:31  .profile\n",
      "-rw-r--r--. 1 RHHLab RHHLab     21 Sep 22 16:48  .profile.bak\n",
      "drwxr-xr-x. 1 RHHLab RHHLab      0 Jul 29  2022  \u001b[01;34mPublic\u001b[0m\n",
      "-rw-------  1 RHHLab RHHLab     36 Sep 26 12:30  .python_history\n",
      "drwxr-xr-x  1 RHHLab RHHLab    440 Oct 14 04:11  \u001b[01;34mrust-analyzer\u001b[0m\n",
      "drwxr-xr-x. 1 RHHLab RHHLab     96 Sep 22 16:49  \u001b[01;34m.rustup\u001b[0m\n",
      "-rw-r--r--. 1 RHHLab RHHLab     10 Jul 29  2022  .shell.pre-oh-my-zsh\n",
      "drwx------  1 RHHLab RHHLab     34 Dec 29 04:01  \u001b[01;34msnap\u001b[0m\n",
      "drwx------. 1 RHHLab RHHLab    132 Sep 16 22:08  \u001b[01;34m.ssh\u001b[0m\n",
      "drwxr-xr-x  1 RHHLab RHHLab     30 Jan  7 01:21  \u001b[01;34mTelegram\u001b[0m\n",
      "drwxr-xr-x. 1 RHHLab RHHLab      0 Jul 29  2022  \u001b[01;34mTemplates\u001b[0m\n",
      "-rwxr-xr-x  1 RHHLab RHHLab     21 Jan 30 16:25  \u001b[01;32mtest\u001b[0m\n",
      "drwxr-xr-x  1 RHHLab RHHLab     64 Oct 14 00:00  \u001b[01;34m.vim\u001b[0m\n",
      "-rw-------  1 RHHLab RHHLab  24864 Jan 30 16:25  .viminfo\n",
      "-rw-r--r--  1 RHHLab RHHLab  19415 Oct 14 04:54  .vimrc\n",
      "-rw-r--r--  1 RHHLab RHHLab  32768 Oct 14 04:48  .vimrc.swp\n",
      "drwxr-xr-x. 1 RHHLab RHHLab     38 Jan 30 02:33 \u001b[01;34m'VirtualBox VMs'\u001b[0m\n",
      "drwxr-xr-x  1 RHHLab RHHLab    162 Jan 30 01:52  \u001b[01;34mvoskModels\u001b[0m\n",
      "drwxr-xr-x  1 RHHLab RHHLab     38 Jan 30 16:19  \u001b[01;34m.vscode\u001b[0m\n",
      "-rw-r--r--  1 RHHLab RHHLab    166 Oct  3 22:31  .wget-hsts\n",
      "drwxr-xr-x  1 RHHLab RHHLab      0 Dec 25 23:02  \u001b[01;34m.xine\u001b[0m\n",
      "-rw-r--r--  1 RHHLab RHHLab  49808 Jan 25 01:28  .zcompdump-fedora-5.8.1\n",
      "-r--r--r--  1 RHHLab RHHLab 117872 Jan 25 01:28  .zcompdump-fedora-5.8.1.zwc\n",
      "-rw-r--r--. 1 RHHLab RHHLab     42 Jul 29  2022  .zimrc\n",
      "-rw-r--r--. 1 RHHLab RHHLab     49 Jul 29  2022  .zpreztorc\n",
      "-rw-r--r--. 1 RHHLab RHHLab     21 Sep 22 16:48  .zshenv\n",
      "-rw-------  1 RHHLab RHHLab 109713 Jan 30 23:21  .zsh_history\n",
      "-rw-r--r--  1 RHHLab RHHLab   5139 Dec 27 21:42  .zshrc\n",
      "\u001b[?2004h"
     ]
    },
    {
     "ename": "",
     "evalue": "1",
     "output_type": "error",
     "traceback": []
    }
   ],
   "source": [
    "cd\n",
    "ll -la"
   ]
  },
  {
   "cell_type": "code",
   "execution_count": 8,
   "id": "13fe3161",
   "metadata": {},
   "outputs": [
    {
     "name": "stdout",
     "output_type": "stream",
     "text": [
      "drwxr-xr-x. 1 root root      124 Sep 25 13:08 \u001b[01;31m\u001b[Kbash\u001b[m\u001b[K_completion.d\n",
      "-rw-r--r--. 1 root root     2638 Jul 20  2022 \u001b[01;31m\u001b[Kbash\u001b[m\u001b[Krc\n",
      "\u001b[?2004h"
     ]
    },
    {
     "ename": "",
     "evalue": "1",
     "output_type": "error",
     "traceback": []
    }
   ],
   "source": [
    "ll /etc/ | grep bash"
   ]
  },
  {
   "cell_type": "code",
   "execution_count": null,
   "id": "4e6e4c7d",
   "metadata": {},
   "outputs": [],
   "source": []
  }
 ],
 "metadata": {
  "kernelspec": {
   "display_name": "Bash",
   "language": "bash",
   "name": "bash"
  },
  "language_info": {
   "codemirror_mode": "shell",
   "file_extension": ".sh",
   "mimetype": "text/x-sh",
   "name": "bash"
  }
 },
 "nbformat": 4,
 "nbformat_minor": 5
}
