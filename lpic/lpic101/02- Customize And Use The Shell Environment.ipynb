{
 "cells": [
  {
   "cell_type": "markdown",
   "id": "78f05325",
   "metadata": {},
   "source": [
    "```\n",
    "- profiles, rc files\n",
    "    - /etc/profile \n",
    "    - ~/.profile\n",
    "    - /etc/bash.bashrc\n",
    "    \n",
    "- maintain skeleton directories \n",
    "    - /etc/skel  [skeleton for new user]\n",
    "- Bash functions\n",
    "- env variables\n",
    "- command search path\n",
    "```"
   ]
  },
  {
   "cell_type": "markdown",
   "id": "ec6e5f7d",
   "metadata": {},
   "source": [
    "```\n",
    "Profiles \n",
    "________\n",
    "\n",
    "/etc/profile  [global]\n",
    "\n",
    "    /etc/profile.d/             \n",
    "    ~/.bash-profile                    |\n",
    "    ~/.bash-login                      |- ~/.bashrc\n",
    "    ~/.profile   [ubuntu default]      |\n",
    "    \n",
    "    /etc/bash.bashrc\n",
    "    /etc/bashrc\n",
    "\n",
    "\n",
    "```"
   ]
  },
  {
   "cell_type": "code",
   "execution_count": 16,
   "id": "f1b9d456",
   "metadata": {},
   "outputs": [
    {
     "name": "stdout",
     "output_type": "stream",
     "text": [
      "\u001b[01;34m/etc/profile.d\u001b[0m\n",
      "├── bash_completion.sh\n",
      "├── colorgrep.csh\n",
      "├── colorgrep.sh\n",
      "├── colorls.csh\n",
      "├── colorls.sh\n",
      "├── colorxzgrep.csh\n",
      "├── colorxzgrep.sh\n",
      "├── colorzgrep.csh\n",
      "├── colorzgrep.sh\n",
      "├── csh.local\n",
      "├── debuginfod.csh\n",
      "├── debuginfod.sh\n",
      "├── flatpak.sh\n",
      "├── gawk.csh\n",
      "├── gawk.sh\n",
      "├── gmpopenh264.sh\n",
      "├── kde.csh\n",
      "├── kde.sh\n",
      "├── lang.csh\n",
      "├── lang.sh\n",
      "├── less.csh\n",
      "├── less.sh\n",
      "├── nano-default-editor.csh\n",
      "├── nano-default-editor.sh\n",
      "├── PackageKit.sh\n",
      "├── sh.local\n",
      "├── snapd.sh\n",
      "├── vte.csh\n",
      "├── vte.sh\n",
      "├── which2.csh\n",
      "└── which2.sh\n",
      "\n",
      "1 directory, 31 files\n",
      "\u001b[?2004h"
     ]
    },
    {
     "ename": "",
     "evalue": "1",
     "output_type": "error",
     "traceback": []
    }
   ],
   "source": [
    "tree -a /etc/profile.d\n"
   ]
  },
  {
   "cell_type": "code",
   "execution_count": 9,
   "id": "bcc3e147",
   "metadata": {},
   "outputs": [
    {
     "name": "stdout",
     "output_type": "stream",
     "text": [
      "-rw-------  1 RHHLab RHHLab  10679 Jan 25 17:48 .ba\u001b[01;31m\u001b[Ksh\u001b[m\u001b[K_history\n",
      "-rw-r--r--. 1 RHHLab RHHLab     18 Jan 20  2022 .ba\u001b[01;31m\u001b[Ksh\u001b[m\u001b[K_logout\n",
      "-rw-r--r--. 1 RHHLab RHHLab    162 Sep 22 16:48 .ba\u001b[01;31m\u001b[Ksh\u001b[m\u001b[K_profile\n",
      "-rw-r--r--. 1 RHHLab RHHLab    513 Sep 22 16:48 .ba\u001b[01;31m\u001b[Ksh\u001b[m\u001b[Krc\n",
      "-rw-------  1 RHHLab RHHLab     79 Jan 30 16:18 .les\u001b[01;31m\u001b[Ksh\u001b[m\u001b[Kst\n",
      "drwxr-xr-x. 1 RHHLab RHHLab    388 Jan 25 01:28 .oh-my-z\u001b[01;31m\u001b[Ksh\u001b[m\u001b[K\n",
      "-rw-r--r--. 1 RHHLab RHHLab  85531 Jul 29  2022 .p10k.z\u001b[01;31m\u001b[Ksh\u001b[m\u001b[K\n",
      "-rw-r--r--. 1 RHHLab RHHLab     10 Jul 29  2022 .\u001b[01;31m\u001b[Ksh\u001b[m\u001b[Kell.pre-oh-my-z\u001b[01;31m\u001b[Ksh\u001b[m\u001b[K\n",
      "drwx------. 1 RHHLab RHHLab    132 Sep 16 22:08 .s\u001b[01;31m\u001b[Ksh\u001b[m\u001b[K\n",
      "-rw-r--r--. 1 RHHLab RHHLab     21 Sep 22 16:48 .z\u001b[01;31m\u001b[Ksh\u001b[m\u001b[Kenv\n",
      "-rw-------  1 RHHLab RHHLab 109754 Jan 30 23:32 .z\u001b[01;31m\u001b[Ksh\u001b[m\u001b[K_history\n",
      "-rw-r--r--  1 RHHLab RHHLab   5139 Dec 27 21:42 .z\u001b[01;31m\u001b[Ksh\u001b[m\u001b[Krc\n",
      "\u001b[?2004h"
     ]
    },
    {
     "ename": "",
     "evalue": "1",
     "output_type": "error",
     "traceback": []
    }
   ],
   "source": [
    "cd\n",
    "ll -la | grep sh"
   ]
  },
  {
   "cell_type": "code",
   "execution_count": 8,
   "id": "dc2da35e",
   "metadata": {},
   "outputs": [
    {
     "name": "stdout",
     "output_type": "stream",
     "text": [
      "drwxr-xr-x. 1 root root      124 Sep 25 13:08 \u001b[01;31m\u001b[Kbash\u001b[m\u001b[K_completion.d\n",
      "-rw-r--r--. 1 root root     2638 Jul 20  2022 \u001b[01;31m\u001b[Kbash\u001b[m\u001b[Krc\n",
      "\u001b[?2004h"
     ]
    },
    {
     "ename": "",
     "evalue": "1",
     "output_type": "error",
     "traceback": []
    }
   ],
   "source": [
    "ll /etc/ | grep bash"
   ]
  },
  {
   "cell_type": "code",
   "execution_count": 11,
   "id": "e34605af",
   "metadata": {},
   "outputs": [
    {
     "name": "stdout",
     "output_type": "stream",
     "text": [
      "drwxr-xr-x. 1 root root      124 Sep 25 13:08 ba\u001b[01;31m\u001b[Ksh\u001b[m\u001b[K_completion.d\n",
      "-rw-r--r--. 1 root root     2638 Jul 20  2022 ba\u001b[01;31m\u001b[Ksh\u001b[m\u001b[Krc\n",
      "-rw-r--r--. 1 root root     1401 Jul 20  2022 c\u001b[01;31m\u001b[Ksh\u001b[m\u001b[K.c\u001b[01;31m\u001b[Ksh\u001b[m\u001b[Krc\n",
      "-rw-r--r--. 1 root root     1087 Jul 20  2022 c\u001b[01;31m\u001b[Ksh\u001b[m\u001b[K.login\n",
      "drwxr-xr-x. 1 root root       40 Sep  6 21:53 cup\u001b[01;31m\u001b[Ksh\u001b[m\u001b[Kelpers\n",
      "lrwxrwxrwx. 1 root root       56 Apr  5  2022 favicon.png -> /usr/\u001b[01;31m\u001b[Ksh\u001b[m\u001b[Kare/icons/hicolor/16x16/apps/fedora-logo-icon.png\n",
      "drwxr-xr-x. 1 root root       74 Oct  1 22:06 fi\u001b[01;31m\u001b[Ksh\u001b[m\u001b[K\n",
      "----------  1 root root     1005 Jan 14 02:45 g\u001b[01;31m\u001b[Ksh\u001b[m\u001b[Kadow\n",
      "----------. 1 root root      995 Jan 14 02:45 g\u001b[01;31m\u001b[Ksh\u001b[m\u001b[Kadow-\n",
      "drwxr-xr-x. 1 root root       80 May  5  2022 libs\u001b[01;31m\u001b[Ksh\u001b[m\u001b[K\n",
      "lrwxrwxrwx. 1 root root       32 Jul 29  2022 localtime -> ../usr/\u001b[01;31m\u001b[Ksh\u001b[m\u001b[Kare/zoneinfo/Asia/Dhaka\n",
      "drwxr-xr-x. 1 root root       38 Nov 24 13:32 setrouble\u001b[01;31m\u001b[Ksh\u001b[m\u001b[Koot\n",
      "----------  1 root root     1351 Jan 14 02:45 \u001b[01;31m\u001b[Ksh\u001b[m\u001b[Kadow\n",
      "----------. 1 root root     1330 Sep 25 21:45 \u001b[01;31m\u001b[Ksh\u001b[m\u001b[Kadow-\n",
      "-rw-r--r--. 1 root root      114 Sep 22 16:41 \u001b[01;31m\u001b[Ksh\u001b[m\u001b[Kells\n",
      "drwxr-xr-x. 1 root root      104 May  5  2022 s\u001b[01;31m\u001b[Ksh\u001b[m\u001b[K\n",
      "-rw-r--r--. 1 root root      510 Feb 13  2022 z\u001b[01;31m\u001b[Ksh\u001b[m\u001b[Kenv\n",
      "-rw-r--r--. 1 root root     1164 Feb 13  2022 z\u001b[01;31m\u001b[Ksh\u001b[m\u001b[Krc\n",
      "\u001b[?2004h"
     ]
    },
    {
     "ename": "",
     "evalue": "1",
     "output_type": "error",
     "traceback": []
    }
   ],
   "source": [
    "ll /etc/ | grep sh"
   ]
  },
  {
   "cell_type": "code",
   "execution_count": 13,
   "id": "3ed681b6",
   "metadata": {},
   "outputs": [
    {
     "name": "stdout",
     "output_type": "stream",
     "text": [
      "# /etc/profile\n",
      "\n",
      "# System wide environment and startup programs, for login setup\n",
      "# Functions and aliases go in /etc/bashrc\n",
      "\n",
      "# It's NOT a good idea to change this file unless you know what you\n",
      "# are doing. It's much better to create a custom.sh shell script in\n",
      "# /etc/profile.d/ to make custom changes to your environment, as this\n",
      "# will prevent the need for merging in future updates.\n",
      "\n",
      "pathmunge () {\n",
      "    case \":${PATH}:\" in\n",
      "        *:\"$1\":*)\n",
      "            ;;\n",
      "        *)\n",
      "            if [ \"$2\" = \"after\" ] ; then\n",
      "                PATH=$PATH:$1\n",
      "            else\n",
      "                PATH=$1:$PATH\n",
      "            fi\n",
      "    esac\n",
      "}\n",
      "\n",
      "\n",
      "if [ -x /usr/bin/id ]; then\n",
      "    if [ -z \"$EUID\" ]; then\n",
      "        # ksh workaround\n",
      "        EUID=`/usr/bin/id -u`\n",
      "        UID=`/usr/bin/id -ru`\n",
      "    fi\n",
      "    USER=\"`/usr/bin/id -un`\"\n",
      "    LOGNAME=$USER\n",
      "    MAIL=\"/var/spool/mail/$USER\"\n",
      "fi\n",
      "\n",
      "# Path manipulation\n",
      "if [ \"$EUID\" = \"0\" ]; then\n",
      "    pathmunge /usr/sbin\n",
      "    pathmunge /usr/local/sbin\n",
      "else\n",
      "    pathmunge /usr/local/sbin after\n",
      "    pathmunge /usr/sbin after\n",
      "fi\n",
      "\n",
      "HOSTNAME=$(/usr/bin/hostnamectl --transient 2>/dev/null) || \\\n",
      "HOSTNAME=$(/usr/bin/hostname 2>/dev/null) || \\\n",
      "HOSTNAME=$(/usr/bin/uname -n)\n",
      "\n",
      "HISTSIZE=1000\n",
      "if [ \"$HISTCONTROL\" = \"ignorespace\" ] ; then\n",
      "    export HISTCONTROL=ignoreboth\n",
      "else\n",
      "    export HISTCONTROL=ignoredups\n",
      "fi\n",
      "\n",
      "export PATH USER LOGNAME MAIL HOSTNAME HISTSIZE HISTCONTROL\n",
      "\n",
      "for i in /etc/profile.d/*.sh /etc/profile.d/sh.local ; do\n",
      "    if [ -r \"$i\" ]; then\n",
      "        if [ \"${-#*i}\" != \"$-\" ]; then \n",
      "            . \"$i\"\n",
      "        else\n",
      "            . \"$i\" >/dev/null\n",
      "        fi\n",
      "    fi\n",
      "done\n",
      "\n",
      "unset i\n",
      "unset -f pathmunge\n",
      "\n",
      "# Source global bash config, when interactive but not posix or sh mode\n",
      "if test \"$BASH\" &&\\\n",
      "   test -z \"$POSIXLY_CORRECT\" &&\\\n",
      "   test \"${0#-}\" != sh &&\\\n",
      "   test -r /etc/bashrc\n",
      "then\n",
      "   # Bash login shells run only /etc/profile\n",
      "   # Bash non-login shells run only /etc/bashrc\n",
      "   # Check for double sourcing is done in /etc/bashrc.\n",
      "   . /etc/bashrc\n",
      "fi\n",
      "\n",
      "\u001b[?2004h"
     ]
    },
    {
     "ename": "",
     "evalue": "1",
     "output_type": "error",
     "traceback": []
    }
   ],
   "source": [
    "cat /etc/profile"
   ]
  },
  {
   "cell_type": "code",
   "execution_count": 15,
   "id": "eb9fcbf3",
   "metadata": {},
   "outputs": [
    {
     "name": "stdout",
     "output_type": "stream",
     "text": [
      "\u001b[01;34m/etc/skel\u001b[0m\n",
      "├── .bash_logout\n",
      "├── .bash_profile\n",
      "├── .bashrc\n",
      "├── \u001b[01;34m.mozilla\u001b[0m\n",
      "│   ├── \u001b[01;34mextensions\u001b[0m\n",
      "│   └── \u001b[01;34mplugins\u001b[0m\n",
      "├── .zprofile\n",
      "└── .zshrc\n",
      "\n",
      "4 directories, 5 files\n",
      "\u001b[?2004h"
     ]
    },
    {
     "ename": "",
     "evalue": "1",
     "output_type": "error",
     "traceback": []
    }
   ],
   "source": [
    "tree -a /etc/skel"
   ]
  },
  {
   "cell_type": "markdown",
   "id": "d192fc3f",
   "metadata": {},
   "source": [
    "```\n",
    "when we create a new user that user's home directory will be followed by skeleton of the /etc/skel directory structure.\n",
    "\n",
    "```"
   ]
  },
  {
   "cell_type": "code",
   "execution_count": 17,
   "id": "2834a50d",
   "metadata": {},
   "outputs": [
    {
     "name": "stdout",
     "output_type": "stream",
     "text": [
      "# useradd defaults file\n",
      "GROUP=100\n",
      "HOME=/home\n",
      "INACTIVE=-1\n",
      "EXPIRE=\n",
      "SHELL=/bin/bash\n",
      "SKEL=/etc/skel\n",
      "CREATE_MAIL_SPOOL=yes\n",
      "\n",
      "\u001b[?2004h"
     ]
    },
    {
     "ename": "",
     "evalue": "1",
     "output_type": "error",
     "traceback": []
    }
   ],
   "source": [
    "cat /etc/default/useradd"
   ]
  },
  {
   "cell_type": "code",
   "execution_count": 20,
   "id": "608cfa89",
   "metadata": {
    "scrolled": false
   },
   "outputs": [
    {
     "name": "stdout",
     "output_type": "stream",
     "text": [
      "BASH=/home/RHHLab/anaconda3/bin/\u001b[01;31m\u001b[Kbash\u001b[m\u001b[K\n",
      "HISTFILE=/home/RHHLab/.\u001b[01;31m\u001b[Kbash\u001b[m\u001b[K_history\n",
      "SHELL=/bin/\u001b[01;31m\u001b[Kbash\u001b[m\u001b[K\n",
      "    local -a dirs=(${BASH_COMPLETION_USER_DIR:-${XDG_DATA_HOME:-$HOME/.local/share}/\u001b[01;31m\u001b[Kbash\u001b[m\u001b[K-completion}/completions);\n",
      "        dirs+=($dir/\u001b[01;31m\u001b[Kbash\u001b[m\u001b[K-completion/completions);\n",
      "        for compfile in \"$cmd\" \"$cmd.\u001b[01;31m\u001b[Kbash\u001b[m\u001b[K\" \"_$cmd\";\n",
      "_\u001b[01;31m\u001b[Kbash\u001b[m\u001b[Kcomp_try_faketty () \n",
      "                echo \"\u001b[01;31m\u001b[Kbash\u001b[m\u001b[K_completion: $FUNCNAME: usage error\" 1>&2;\n",
      "                echo \"\u001b[01;31m\u001b[Kbash\u001b[m\u001b[K_completion: $FUNCNAME: \\`${!OPTIND}':\" \"unknown argument\" 1>&2;\n",
      "    (($# < 1)) && echo \"\u001b[01;31m\u001b[Kbash\u001b[m\u001b[K_completion: $FUNCNAME: missing mandatory argument CONFIG\" 1>&2;\n",
      "                echo \"\u001b[01;31m\u001b[Kbash\u001b[m\u001b[K_completion: $FUNCNAME: usage error\" 1>&2;\n",
      "                echo \"\u001b[01;31m\u001b[Kbash\u001b[m\u001b[K_completion: $FUNCNAME: usage error\" 1>&2;\n",
      "        echo \"\u001b[01;31m\u001b[Kbash\u001b[m\u001b[K_completion: $FUNCNAME: missing mandatory argument CWORD\" 1>&2;\n",
      "        echo \"\u001b[01;31m\u001b[Kbash\u001b[m\u001b[K_completion: $FUNCNAME($*): unprocessed arguments:\" \"$(while (($# >= OPTIND)); do\n",
      "    echo \"\u001b[01;31m\u001b[Kbash\u001b[m\u001b[K_completion: $FUNCNAME: deprecated function,\" \"use _upvars instead\" 1>&2;\n",
      "        echo \"\u001b[01;31m\u001b[Kbash\u001b[m\u001b[K_completion: $FUNCNAME: usage: $FUNCNAME\" \"[-v varname value] | [-aN varname [value ...]] ...\" 1>&2;\n",
      "                    echo \"\u001b[01;31m\u001b[Kbash\u001b[m\u001b[K_completion: $FUNCNAME:\" \"\\`$1': missing number specifier\" 1>&2;\n",
      "                    echo \u001b[01;31m\u001b[Kbash\u001b[m\u001b[K_completion: \"$FUNCNAME: \\`$1': invalid number specifier\" 1>&2;\n",
      "                    echo \u001b[01;31m\u001b[Kbash\u001b[m\u001b[K_completion: \"$FUNCNAME: \\`$1${2+ }$2': missing argument(s)\" 1>&2;\n",
      "                    echo \"\u001b[01;31m\u001b[Kbash\u001b[m\u001b[K_completion: $FUNCNAME: $1:\" \"missing argument(s)\" 1>&2;\n",
      "                echo \"\u001b[01;31m\u001b[Kbash\u001b[m\u001b[K_completion: $FUNCNAME: $1: invalid option\" 1>&2;\n",
      "            printf '\u001b[01;31m\u001b[Kbash\u001b[m\u001b[K: %s%s\\n' \"${1:+$1: }\" \"$(gettext PackageKit 'command not found')\" 1>&2;\n",
      "    TMPFILE=$(mktemp ${TMPDIR-/tmp}/\u001b[01;31m\u001b[Kbash\u001b[m\u001b[K_kernel.XXXXXXXXXX);\n",
      "    echo \"\u001b[01;31m\u001b[Kbash\u001b[m\u001b[K_kernel: saved image data to: $TMPFILE\" 1>&2\n",
      "\u001b[?2004h"
     ]
    },
    {
     "ename": "",
     "evalue": "1",
     "output_type": "error",
     "traceback": []
    }
   ],
   "source": [
    "set | grep bash"
   ]
  },
  {
   "cell_type": "code",
   "execution_count": 22,
   "id": "e3c179b4",
   "metadata": {},
   "outputs": [
    {
     "name": "stdout",
     "output_type": "stream",
     "text": [
      "SHELL=/bin/\u001b[01;31m\u001b[Kbash\u001b[m\u001b[K\n",
      "\u001b[?2004h"
     ]
    },
    {
     "ename": "",
     "evalue": "1",
     "output_type": "error",
     "traceback": []
    }
   ],
   "source": [
    "env | grep bash"
   ]
  },
  {
   "cell_type": "code",
   "execution_count": 23,
   "id": "f4bb301a",
   "metadata": {},
   "outputs": [
    {
     "name": "stdout",
     "output_type": "stream",
     "text": [
      "/home/RHHLab/.local/bin:/home/RHHLab/bin:/home/RHHLab/anaconda3/bin:/home/RHHLab/anaconda3/condabin:/home/RHHLab/.cargo/bin:/usr/local/bin:/usr/local/sbin:/usr/bin:/usr/sbin:/var/lib/snapd/snap/bin\n",
      "\u001b[?2004h"
     ]
    },
    {
     "ename": "",
     "evalue": "1",
     "output_type": "error",
     "traceback": []
    }
   ],
   "source": [
    "echo $PATH"
   ]
  },
  {
   "cell_type": "markdown",
   "id": "173c3e7c",
   "metadata": {},
   "source": [
    "```bash\n",
    "PATH=$PATH:/home/user/bin\n",
    "export PATH\n",
    "#setting /home/user/bin directory in path variable\n",
    "```"
   ]
  },
  {
   "cell_type": "markdown",
   "id": "d618b622",
   "metadata": {},
   "source": [
    "```bash\n",
    "if [ -d \"$HOME/bin\" ] ; then\n",
    "    PATH=\"$HOME/bin:$PATH\"\n",
    "fi\n",
    "# if ~/.profile is needed to manually updated\n",
    "\n",
    "```"
   ]
  },
  {
   "cell_type": "code",
   "execution_count": null,
   "id": "5ac276b9",
   "metadata": {},
   "outputs": [],
   "source": []
  }
 ],
 "metadata": {
  "kernelspec": {
   "display_name": "Bash",
   "language": "bash",
   "name": "bash"
  },
  "language_info": {
   "codemirror_mode": "shell",
   "file_extension": ".sh",
   "mimetype": "text/x-sh",
   "name": "bash"
  }
 },
 "nbformat": 4,
 "nbformat_minor": 5
}
